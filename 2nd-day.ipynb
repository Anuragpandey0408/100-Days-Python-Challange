{
 "cells": [
  {
   "cell_type": "markdown",
   "id": "76f468f9-a417-410d-8d5b-188bfbc17896",
   "metadata": {},
   "source": [
    "# Typecasting in Python"
   ]
  },
  {
   "cell_type": "code",
   "execution_count": 2,
   "id": "aff72c37-a8d9-46a4-a85f-db6e780c9dad",
   "metadata": {},
   "outputs": [
    {
     "name": "stdout",
     "output_type": "stream",
     "text": [
      "additon in string : 12\n",
      "addition in integers : 3\n"
     ]
    }
   ],
   "source": [
    "a = \"1\"\n",
    "a1 = 1\n",
    "b = \"2\"\n",
    "b1 = 2\n",
    "print(\"additon in string :\", a + b)\n",
    "print(\"addition in integers :\", a1 + b1)"
   ]
  },
  {
   "cell_type": "markdown",
   "id": "8babef05-95a9-4272-a072-12f7a2c26f98",
   "metadata": {},
   "source": [
    "Typecasting : The conversion of one data type  into the other data type is known as type casting or type conversion in python."
   ]
  },
  {
   "cell_type": "code",
   "execution_count": 3,
   "id": "f31be592-2243-42f4-9a7e-8208cb0ac0df",
   "metadata": {},
   "outputs": [
    {
     "name": "stdout",
     "output_type": "stream",
     "text": [
      "3\n"
     ]
    }
   ],
   "source": [
    "# string typecast in integer (Explicit Typecasting).\n",
    "a = \"1\"\n",
    "b = \"2\"\n",
    "print(int(a) + int(b))"
   ]
  },
  {
   "cell_type": "markdown",
   "id": "cdd7e23e-4427-40d9-b9ae-7a5b5d785ae5",
   "metadata": {},
   "source": [
    " # Two Type of Typecasting"
   ]
  },
  {
   "cell_type": "markdown",
   "id": "6de4d4b6-5fdb-4bbc-8ced-2b555014c77d",
   "metadata": {},
   "source": [
    "1. Explicit Typecasting\n",
    "2. Implicit Typecasting"
   ]
  },
  {
   "cell_type": "code",
   "execution_count": 4,
   "id": "12fca5ef-1089-4d39-875a-e2ebc0d56567",
   "metadata": {},
   "outputs": [
    {
     "name": "stdout",
     "output_type": "stream",
     "text": [
      "17.0\n"
     ]
    }
   ],
   "source": [
    "# Explicit Typecasting\n",
    "a = \"1\"\n",
    "b = \"2\"\n",
    "print(int(a) + int(b))\n",
    "\n",
    "# Implicit TypeCasting\n",
    "c = 8\n",
    "d = 9.0\n",
    "print(c + d)\n",
    "# output automaticcly converted into float"
   ]
  },
  {
   "cell_type": "markdown",
   "id": "6154ce26-f4a7-4c59-8f30-494469323d1a",
   "metadata": {},
   "source": [
    "# User Input in Python"
   ]
  },
  {
   "cell_type": "code",
   "execution_count": 5,
   "id": "ec480c8e-6015-4733-be5c-68449c7053f0",
   "metadata": {},
   "outputs": [
    {
     "name": "stdin",
     "output_type": "stream",
     "text": [
      "Enter Your Name : encoder\n"
     ]
    },
    {
     "name": "stdout",
     "output_type": "stream",
     "text": [
      "My name is : encoder\n"
     ]
    }
   ],
   "source": [
    "a  = input(\"Enter Your Name :\")\n",
    "print(\"My name is :\", a)"
   ]
  },
  {
   "cell_type": "markdown",
   "id": "2a2c78ae-1385-461b-9b95-8f8a9730e02d",
   "metadata": {},
   "source": [
    "But the problem is that input fuction return the value as string, hence we have to typecast them whenever required to another datatype."
   ]
  },
  {
   "cell_type": "code",
   "execution_count": 9,
   "id": "3bd8d305-b17a-45ae-88a9-b468a9f85bd6",
   "metadata": {},
   "outputs": [
    {
     "name": "stdin",
     "output_type": "stream",
     "text": [
      "Enter First Number : 1\n",
      "Enter Second Number : 2\n"
     ]
    },
    {
     "name": "stdout",
     "output_type": "stream",
     "text": [
      "3\n"
     ]
    }
   ],
   "source": [
    "x = input(\"Enter First Number :\")\n",
    "y = input(\"Enter Second Number :\")\n",
    "print(int(x) + int(y))"
   ]
  },
  {
   "cell_type": "code",
   "execution_count": null,
   "id": "046a8338-bf4a-4553-b636-d63c58c6d580",
   "metadata": {},
   "outputs": [],
   "source": []
  }
 ],
 "metadata": {
  "kernelspec": {
   "display_name": "Python 3 (ipykernel)",
   "language": "python",
   "name": "python3"
  },
  "language_info": {
   "codemirror_mode": {
    "name": "ipython",
    "version": 3
   },
   "file_extension": ".py",
   "mimetype": "text/x-python",
   "name": "python",
   "nbconvert_exporter": "python",
   "pygments_lexer": "ipython3",
   "version": "3.11.4"
  }
 },
 "nbformat": 4,
 "nbformat_minor": 5
}

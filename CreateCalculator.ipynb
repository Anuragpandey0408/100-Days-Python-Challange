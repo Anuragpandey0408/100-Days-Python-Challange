{
 "cells": [
  {
   "cell_type": "markdown",
   "id": "a9ac469b-b39a-4f2f-9a2f-cc9da86a3762",
   "metadata": {},
   "source": [
    "# Create a Calculator Using Advance Arthmatic Opration"
   ]
  },
  {
   "cell_type": "code",
   "execution_count": 2,
   "id": "2dad5d44-acf9-4143-a2c8-5f3d20bf40d0",
   "metadata": {},
   "outputs": [
    {
     "name": "stdout",
     "output_type": "stream",
     "text": [
      "Plese select operation - \n",
      "1. Add\n",
      "2. Subtract\n",
      "3. Multiply\n",
      "4. Divide\n",
      "5. Module\n",
      "6. Squre\n",
      "\n"
     ]
    },
    {
     "name": "stdin",
     "output_type": "stream",
     "text": [
      "Select opration from 1,2,3,4,5,6 : 6\n",
      "Enter First Number : 10\n",
      "Enter Second Number : 20\n"
     ]
    },
    {
     "name": "stdout",
     "output_type": "stream",
     "text": [
      "10 ** 20 = 100000000000000000000\n"
     ]
    }
   ],
   "source": [
    "# making simple calculator\n",
    "\n",
    "# func to add two num\n",
    "def add(num1, num2):\n",
    "    return(num1 + num2)\n",
    "\n",
    "# func to sub two num\n",
    "def sub(num1, num2):\n",
    "    return(num1 - num2)\n",
    "\n",
    "# func to multiply two num\n",
    "def mul(num1, num2):\n",
    "    return(num1 * num2)\n",
    "\n",
    "# func to add two num\n",
    "def div(num1, num2):\n",
    "    return(num1 / num2)\n",
    "\n",
    "# func to remaing reminder two num\n",
    "def modulo(num1, num2):\n",
    "    return(num1 % num2)\n",
    "\n",
    "# func to fing squre two num\n",
    "def squre(num1, num2):\n",
    "    return(num1 ** num2)\n",
    "\n",
    "print(\"Plese select operation - \\n\" \\\n",
    "      \"1. Add\\n\" \\\n",
    "      \"2. Subtract\\n\" \\\n",
    "      \"3. Multiply\\n\" \\\n",
    "      \"4. Divide\\n\" \\\n",
    "      \"5. Module\\n\" \\\n",
    "      \"6. Squre\\n\")\n",
    "\n",
    "# take input from the user\n",
    "select = int(input(\"Select opration from 1,2,3,4,5,6 :\"))\n",
    "\n",
    "number_1 = int(input(\"Enter First Number :\"))\n",
    "number_2 = int(input(\"Enter Second Number :\"))\n",
    "\n",
    "if select == 1:\n",
    "     print(number_1, \"+\", number_2, \"=\",\n",
    "           add(number_1, number_2))\n",
    "\n",
    "elif select == 2:\n",
    "     print(number_1, \"-\", number_2, \"=\",\n",
    "           sub(number_1, number_2))\n",
    "\n",
    "elif select == 3:\n",
    "     print(number_1, \"*\", number_2, \"=\",\n",
    "           mul(number_1, number_2))\n",
    "\n",
    "elif select == 4:\n",
    "     print(number_1, \"/\", number_2, \"=\",\n",
    "           div(number_1, number_2))\n",
    "\n",
    "elif select == 5:\n",
    "     print(number_1, \"%\", number_2, \"=\",\n",
    "           modulo(number_1, number_2))\n",
    "\n",
    "elif select == 6:\n",
    "     print(number_1, \"**\", number_2, \"=\",\n",
    "           squre(number_1, number_2))\n",
    "\n",
    "else: \n",
    "    \"Invalid Input\""
   ]
  },
  {
   "cell_type": "code",
   "execution_count": null,
   "id": "3d4047f7-cfda-46b0-b10a-eb8891a7a1b5",
   "metadata": {},
   "outputs": [],
   "source": []
  }
 ],
 "metadata": {
  "kernelspec": {
   "display_name": "Python 3 (ipykernel)",
   "language": "python",
   "name": "python3"
  },
  "language_info": {
   "codemirror_mode": {
    "name": "ipython",
    "version": 3
   },
   "file_extension": ".py",
   "mimetype": "text/x-python",
   "name": "python",
   "nbconvert_exporter": "python",
   "pygments_lexer": "ipython3",
   "version": "3.11.4"
  }
 },
 "nbformat": 4,
 "nbformat_minor": 5
}

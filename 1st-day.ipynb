{
 "cells": [
  {
   "cell_type": "markdown",
   "id": "50f1c554-8bc7-49e0-9651-0d392c460592",
   "metadata": {},
   "source": [
    "# Variable's & Datatype's\n"
   ]
  },
  {
   "cell_type": "markdown",
   "id": "74923467-6db1-45bf-8b4b-8e285c936273",
   "metadata": {},
   "source": [
    "Variable: A variable is a container or storage location in memory used to store data values. In Python, a variable is created when you assign a value to it."
   ]
  },
  {
   "cell_type": "code",
   "execution_count": 1,
   "id": "bfbf72bb-056d-4034-9883-28b14abf5dc5",
   "metadata": {},
   "outputs": [],
   "source": [
    "a = 1\n",
    "b = True\n",
    "c = \"Anurag\"\n",
    "d = None"
   ]
  },
  {
   "cell_type": "markdown",
   "id": "dfcddd10-8c08-4678-bded-5e1c8422e11d",
   "metadata": {},
   "source": [
    "Data Type: A data type defines the type of value a variable can hold. It specifies what kind of data is being stored (e.g., integer, string, float).\n",
    ".\n"
   ]
  },
  {
   "cell_type": "code",
   "execution_count": 9,
   "id": "f5e463a3-4138-4d97-85b7-de58f86a04d3",
   "metadata": {},
   "outputs": [
    {
     "name": "stdout",
     "output_type": "stream",
     "text": [
      "type of a is : <class 'int'>\n",
      "<class 'str'>\n",
      "<class 'float'>\n",
      "<class 'NoneType'>\n",
      "<class 'bool'>\n"
     ]
    }
   ],
   "source": [
    "a = 1\n",
    "print(\"type of a is :\",type(a))\n",
    "\n",
    "b = 'encoder'\n",
    "print(type(b))\n",
    "\n",
    "c = 9.07\n",
    "print(type(c))\n",
    "\n",
    "d = None\n",
    "print(type(d))\n",
    "\n",
    "e = True\n",
    "print(type(e))"
   ]
  },
  {
   "cell_type": "code",
   "execution_count": 13,
   "id": "6c294328-5747-4f5d-af95-52e58c68ebd0",
   "metadata": {},
   "outputs": [
    {
     "name": "stdout",
     "output_type": "stream",
     "text": [
      "(8+6j)\n",
      "type of cmplx is : <class 'complex'>\n"
     ]
    }
   ],
   "source": [
    "# complex number is real + imagnary part of number\n",
    "cmplx = complex(8,6)\n",
    "print(cmplx)\n",
    "print(\"type of cmplx is :\" ,type(cmplx))"
   ]
  },
  {
   "cell_type": "markdown",
   "id": "6a54b5cb-ce6e-4a2d-abdd-8ac419632c68",
   "metadata": {},
   "source": [
    "- Sequenced data: list, tuple"
   ]
  },
  {
   "cell_type": "markdown",
   "id": "a8c62497-a239-482b-a2ba-2a7a8f528dc7",
   "metadata": {},
   "source": [
    "list : list is order collection of data with element saprated by a comma and enclosed within squre brackets. List are mutable and can be modified after creation"
   ]
  },
  {
   "cell_type": "code",
   "execution_count": 17,
   "id": "373f54ef-6ef2-47f9-96d8-bc8af5c18661",
   "metadata": {},
   "outputs": [
    {
     "name": "stdout",
     "output_type": "stream",
     "text": [
      "[8, 2.0, ['apple', 'banana']]\n"
     ]
    }
   ],
   "source": [
    "list1 = [8, 2.0, [\"apple\" , \"banana\"]]\n",
    "print(list1)"
   ]
  },
  {
   "cell_type": "markdown",
   "id": "e4d355b2-9197-4bf9-97d6-01328fd76ad7",
   "metadata": {},
   "source": [
    "Tuple : A tuple is a ordered collection of data with element seprated by a comma and enclosed within parenthesis. Tuple are immutable and can not modified after creation."
   ]
  },
  {
   "cell_type": "code",
   "execution_count": 18,
   "id": "1af6006c-91a1-4ec8-a61c-e9e252f4603c",
   "metadata": {},
   "outputs": [
    {
     "name": "stdout",
     "output_type": "stream",
     "text": [
      "(('Parrot', 'Sparrow'), ('Lion', 'Tiger'))\n"
     ]
    }
   ],
   "source": [
    "tuple1 = ((\"Parrot\", \"Sparrow\"), (\"Lion\" , \"Tiger\"))\n",
    "print(tuple1)"
   ]
  },
  {
   "cell_type": "markdown",
   "id": "6705c2e5-9228-4de0-b795-c3255eade6b8",
   "metadata": {},
   "source": [
    "- Mapped Data : Dict"
   ]
  },
  {
   "cell_type": "markdown",
   "id": "7b9a0c96-6f6c-47e9-a931-f6af68cb6b86",
   "metadata": {},
   "source": [
    "Dict : A dic is an unorder collection of data containg a key value pairs, the key value pairs are enclosed with curley brackets {}"
   ]
  },
  {
   "cell_type": "code",
   "execution_count": 3,
   "id": "17da79eb-45c5-4abc-9814-81ed454948df",
   "metadata": {},
   "outputs": [
    {
     "name": "stdout",
     "output_type": "stream",
     "text": [
      "{'Name': 'Encoder', 'Age': 20, 'CanVote': True}\n"
     ]
    }
   ],
   "source": [
    "dict1 = {\"Name\" : \"Encoder\", \"Age\" : 20, \"CanVote\" : True}\n",
    "print(dict1)"
   ]
  },
  {
   "cell_type": "markdown",
   "id": "9e8d35e3-5db6-4acf-855f-c7e58a9ceb25",
   "metadata": {},
   "source": [
    "# Arithmatic Oprator"
   ]
  },
  {
   "cell_type": "code",
   "execution_count": 4,
   "id": "93a3e63c-18cd-4aa4-84a4-d044ea6a6725",
   "metadata": {},
   "outputs": [
    {
     "name": "stdout",
     "output_type": "stream",
     "text": [
      "2\n"
     ]
    }
   ],
   "source": [
    "# floor division oprator\n",
    "print(15//6)"
   ]
  },
  {
   "cell_type": "code",
   "execution_count": 5,
   "id": "bb14ebd6-094e-43d2-b672-ad8c850869c0",
   "metadata": {},
   "outputs": [
    {
     "name": "stdout",
     "output_type": "stream",
     "text": [
      "2.5\n"
     ]
    }
   ],
   "source": [
    "# division oprator\n",
    "print(15/6)"
   ]
  },
  {
   "cell_type": "code",
   "execution_count": 7,
   "id": "41fb133c-c70b-4dff-a346-c34eb0a1b91c",
   "metadata": {},
   "outputs": [
    {
     "name": "stdout",
     "output_type": "stream",
     "text": [
      "3\n"
     ]
    }
   ],
   "source": [
    "# modulus - reminder is 3\n",
    "print(15 % 6)"
   ]
  },
  {
   "cell_type": "code",
   "execution_count": 8,
   "id": "57471657-5b68-480c-a01f-f5f698eab3ae",
   "metadata": {},
   "outputs": [
    {
     "name": "stdout",
     "output_type": "stream",
     "text": [
      "4\n"
     ]
    }
   ],
   "source": [
    "# exponential oprator - 2 the power 2\n",
    "print(2**2)"
   ]
  },
  {
   "cell_type": "code",
   "execution_count": 15,
   "id": "327e8d11-061c-40fa-a48d-25a3269f54ce",
   "metadata": {},
   "outputs": [
    {
     "name": "stdout",
     "output_type": "stream",
     "text": [
      "Addition of 10 and 15 is 25\n",
      "Substraction of 10 and 15 is -5\n",
      "floor division of 10 and 15 is 0\n",
      "Exponential of 10 and 15 is 1000000000000000\n",
      "Modulo of 10 and 15 is 10\n"
     ]
    }
   ],
   "source": [
    "# exercise\n",
    "n = 10\n",
    "m = 15\n",
    "ans1 = n + m\n",
    "print(\"Addition of\", n, \"and\", m, \"is\", ans1)\n",
    "\n",
    "ans2 = n - m\n",
    "print(\"Substraction of\", n, \"and\", m, \"is\", ans2)\n",
    "\n",
    "ans3 = n // m\n",
    "print(\"floor division of\", n, \"and\", m, \"is\", ans3)\n",
    "\n",
    "ans4 = n**m\n",
    "print(\"Exponential of\", n, \"and\", m, \"is\", ans4)\n",
    "\n",
    "ans5 = n % m\n",
    "print(\"Modulo of\", n, \"and\", m, \"is\", ans5)"
   ]
  },
  {
   "cell_type": "code",
   "execution_count": null,
   "id": "30a8c8a1-70ac-4574-9ba5-ca29b1956920",
   "metadata": {},
   "outputs": [],
   "source": []
  }
 ],
 "metadata": {
  "kernelspec": {
   "display_name": "Python 3 (ipykernel)",
   "language": "python",
   "name": "python3"
  },
  "language_info": {
   "codemirror_mode": {
    "name": "ipython",
    "version": 3
   },
   "file_extension": ".py",
   "mimetype": "text/x-python",
   "name": "python",
   "nbconvert_exporter": "python",
   "pygments_lexer": "ipython3",
   "version": "3.11.4"
  }
 },
 "nbformat": 4,
 "nbformat_minor": 5
}
